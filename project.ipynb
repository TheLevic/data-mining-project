{
 "cells": [
  {
   "cell_type": "markdown",
   "metadata": {},
   "source": [
    "CSCE 4143: Data Mining\n",
    "\n",
    "Group 7 Final Project\n",
    "\n",
    "UFC Stuff\n",
    "\n",
    "https://www.kaggle.com/datasets/akshaysinghim/ufc-fight-data-1993-to-2023"
   ]
  },
  {
   "cell_type": "markdown",
   "metadata": {},
   "source": [
    "Levi Crider, Spencer Smith, Caleb Holmes, and Ethan Weems"
   ]
  },
  {
   "cell_type": "markdown",
   "metadata": {},
   "source": [
    "## Installing Dependencies"
   ]
  },
  {
   "cell_type": "code",
   "execution_count": null,
   "metadata": {},
   "outputs": [],
   "source": [
    "%pip install numpy\n",
    "%pip install pandas\n",
    "%pip install scikit-learn"
   ]
  },
  {
   "cell_type": "code",
   "execution_count": null,
   "metadata": {},
   "outputs": [],
   "source": [
    "import pandas as pd\n",
    "# Load data\n",
    "df = pd.read_csv(\"data/ufc_data.csv\")"
   ]
  },
  {
   "cell_type": "code",
   "execution_count": null,
   "metadata": {},
   "outputs": [],
   "source": [
    "df = df.rename(columns={'R_fighter': 'RED'})\n",
    "df = df.rename(columns={'B_fighter': 'BLUE'})\n",
    "df = df.rename(columns={'R_SIG_STR_pct': 'R_SIG_PCT'})\n",
    "df = df.rename(columns={'B_SIG_STR_pct': 'B_SIG_PCT'})\n",
    "df = df.rename(columns={'R_TD_pct': 'R_TD_PCT'})\n",
    "df = df.rename(columns={'B_TD_pct': 'B_TD_PCT'})\n",
    "df = df.rename(columns={'win_by': 'WIN_TYPE'})\n",
    "df = df.rename(columns={'last_round': 'LAST_RD'})\n",
    "df = df.rename(columns={'last_round_time': 'LAST_RD_TIME'})\n",
    "df = df.rename(columns={'Format': 'NUM_RD'})\n",
    "df = df.rename(columns={'Referee': 'REF'})\n",
    "df = df.rename(columns={'date': 'DATE'})\n",
    "df = df.rename(columns={'location': 'LOC'})\n",
    "df = df.rename(columns={'Fight_type': 'TYPE'})\n",
    "df = df.rename(columns={'Winner': 'WINNER'})\n"
   ]
  },
  {
   "cell_type": "markdown",
   "metadata": {},
   "source": [
    "# Cleaning Data"
   ]
  },
  {
   "cell_type": "code",
   "execution_count": null,
   "metadata": {},
   "outputs": [],
   "source": [
    "# Dropping all rows with missing values\n",
    "df.replace(\"---\", pd.NaT, inplace=True)\n",
    "df.dropna()\n",
    "\n",
    "\n",
    "\n",
    "# Dropping all rows before may of 2001\n",
    "df['DATE'] = pd.to_datetime(df['DATE'], format=\"%B %d, %Y\").dt.strftime(\"%Y-%m-%d\")\n",
    "limit_date = '2001-04-01'\n",
    "df = df[(df['DATE'] > limit_date)]\n",
    "\n"
   ]
  },
  {
   "cell_type": "code",
   "execution_count": null,
   "metadata": {},
   "outputs": [],
   "source": [
    "# Remove percentage signs from columns\n",
    "df = df.replace('%', '', regex=True)"
   ]
  },
  {
   "cell_type": "code",
   "execution_count": null,
   "metadata": {},
   "outputs": [],
   "source": [
    "# Combine last round and last round time into one column called total_time\n"
   ]
  },
  {
   "cell_type": "markdown",
   "metadata": {},
   "source": [
    "# Decision Tree Classifier"
   ]
  }
 ],
 "metadata": {
  "kernelspec": {
   "display_name": "Python 3",
   "language": "python",
   "name": "python3"
  },
  "language_info": {
   "codemirror_mode": {
    "name": "ipython",
    "version": 3
   },
   "file_extension": ".py",
   "mimetype": "text/x-python",
   "name": "python",
   "nbconvert_exporter": "python",
   "pygments_lexer": "ipython3",
   "version": "3.11.6"
  },
  "orig_nbformat": 4
 },
 "nbformat": 4,
 "nbformat_minor": 2
}
