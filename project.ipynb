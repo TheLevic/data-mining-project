{
 "cells": [
  {
   "cell_type": "markdown",
   "metadata": {},
   "source": [
    "CSCE 4143: Data Mining\n",
    "\n",
    "Group 7 Final Project\n",
    "\n",
    "UFC Stuff\n",
    "\n",
    "https://www.kaggle.com/datasets/akshaysinghim/ufc-fight-data-1993-to-2023"
   ]
  },
  {
   "cell_type": "markdown",
   "metadata": {},
   "source": [
    "Levi Crider, Spencer Smith, Caleb Holmes, and Ethan Weems"
   ]
  },
  {
   "cell_type": "markdown",
   "metadata": {},
   "source": [
    "## Installing Dependencies"
   ]
  },
  {
   "cell_type": "code",
   "execution_count": null,
   "metadata": {},
   "outputs": [],
   "source": [
    "import pandas as pd\n",
    "import numpy as np\n",
    "# load data\n",
    "df = pd.read_csv(\"ufc_data.csv\")"
   ]
  },
  {
   "cell_type": "code",
   "execution_count": null,
   "metadata": {},
   "outputs": [],
   "source": [
    "# preview dataset\n",
    "pd.set_option('display.max_columns', None)\n",
    "df"
   ]
  },
  {
   "cell_type": "code",
   "execution_count": null,
   "metadata": {},
   "outputs": [],
   "source": [
    "df = df.rename(columns={'R_fighter': 'R_FIGHTER'})\n",
    "df = df.rename(columns={'B_fighter': 'B_FIGHTER'})\n",
    "df = df.rename(columns={'R_SIG_STR.': 'R_SIG_STR'})\n",
    "df = df.rename(columns={'B_SIG_STR.': 'B_SIG_STR'})\n",
    "df = df.rename(columns={'R_TOTAL_STR.': 'R_TOT_STR'})\n",
    "df = df.rename(columns={'B_TOTAL_STR.': 'B_TOT_STR'})\n",
    "df = df.rename(columns={'R_SIG_STR_pct': 'R_SIG_PCT'})\n",
    "df = df.rename(columns={'B_SIG_STR_pct': 'B_SIG_PCT'})\n",
    "df = df.rename(columns={'R_TD_pct': 'R_TD_PCT'})\n",
    "df = df.rename(columns={'B_TD_pct': 'B_TD_PCT'})\n",
    "df = df.rename(columns={'win_by': 'WIN_TYPE'})\n",
    "df = df.rename(columns={'last_round': 'LAST_RD'})\n",
    "df = df.rename(columns={'last_round_time': 'LAST_RD_TIME'})\n",
    "df = df.rename(columns={'Format': 'NUM_RD'})\n",
    "df = df.rename(columns={'Referee': 'REF'})\n",
    "df = df.rename(columns={'date': 'DATE'})\n",
    "df = df.rename(columns={'location': 'LOC'})\n",
    "df = df.rename(columns={'Fight_type': 'TYPE'})\n",
    "df = df.rename(columns={'Winner': 'WINNER'})"
   ]
  },
  {
   "cell_type": "markdown",
   "metadata": {},
   "source": [
    "# Cleaning Data"
   ]
  },
  {
   "cell_type": "code",
   "execution_count": null,
   "metadata": {},
   "outputs": [],
   "source": [
    "# dropping all rows with missing values\n",
    "attsWithPct = [\"R_SIG_PCT\", \"B_SIG_PCT\", \"R_TD_PCT\", \"B_TD_PCT\"]\n",
    "\n",
    "for attribute in df.columns:\n",
    "    if attribute in attsWithPct:\n",
    "        continue\n",
    "    else:\n",
    "        df[attribute].replace(\"---\", pd.NaT, inplace=True)\n",
    "        df[attribute].dropna(inplace=True)\n",
    "\n",
    "# dropping all rows before May of 2001\n",
    "df['DATE'] = pd.to_datetime(df['DATE'], format=\"%B %d, %Y\").dt.strftime(\"%Y-%m-%d\")\n",
    "limit_date = '2001-04-01'\n",
    "df = df[(df['DATE'] > limit_date)]"
   ]
  },
  {
   "cell_type": "code",
   "execution_count": null,
   "metadata": {},
   "outputs": [],
   "source": [
    "# remove percentage signs from columns\n",
    "df = df.replace('%', '', regex=True)"
   ]
  },
  {
   "cell_type": "code",
   "execution_count": null,
   "metadata": {},
   "outputs": [],
   "source": [
    "# combine last round and last round time into one column called total_time\n",
    "\n",
    "# convert LAST_RD to time elapsed in rounds before final round\n",
    "df['LAST_RD'] = (df['LAST_RD'].astype(int) * 5) - 5\n",
    "df['LAST_RD'] = pd.to_timedelta(df['LAST_RD'], unit='m')\n",
    "\n",
    "# convert LAST_RD_TIME to format acceptable by timedelta\n",
    "df['LAST_RD_TIME'] = '00:' + df['LAST_RD_TIME'].astype(str)\n",
    "df['LAST_RD_TIME'] = pd.to_timedelta(df['LAST_RD_TIME'])\n",
    "\n",
    "# add times\n",
    "df['TOTAL_TIME'] = df['LAST_RD'] + df['LAST_RD_TIME']\n",
    "\n",
    "# reformat\n",
    "# df['TOTAL_TIME'] = df['TOTAL_TIME'].apply(lambda x: '{:02}:{:02}'.format(x.components.minutes, x.components.seconds))\n",
    "df['TOTAL_TIME'] = df['TOTAL_TIME'].dt.total_seconds()\n",
    "\n",
    "df['R_CTRL'] = '00:' + df['R_CTRL'].astype(str)\n",
    "df['R_CTRL'] = pd.to_timedelta(df['R_CTRL'])\n",
    "df['R_CTRL'] = df['R_CTRL'].dt.total_seconds()\n",
    "\n",
    "df['B_CTRL'] = '00:' + df['B_CTRL'].astype(str)\n",
    "df['B_CTRL'] = pd.to_timedelta(df['B_CTRL'])\n",
    "df['B_CTRL'] = df['B_CTRL'].dt.total_seconds()\n",
    "\n",
    "# drop old columns\n",
    "df = df.drop(columns=['LAST_RD', 'LAST_RD_TIME'])"
   ]
  },
  {
   "cell_type": "code",
   "execution_count": null,
   "metadata": {},
   "outputs": [],
   "source": [
    "df[\"NUM_RD\"] = df[\"NUM_RD\"].str[:1]"
   ]
  },
  {
   "cell_type": "code",
   "execution_count": null,
   "metadata": {},
   "outputs": [],
   "source": [
    "df"
   ]
  },
  {
   "cell_type": "code",
   "execution_count": null,
   "metadata": {},
   "outputs": [],
   "source": [
    "def makeTwoCols(dataFrame, origCol):\n",
    "    dataFrame[[origCol + \"_SUC\", origCol + \"_ATT\"]] = df[origCol].str.split(' of ', expand=True)\n",
    "    dataFrame.drop(columns=[origCol], inplace=True)"
   ]
  },
  {
   "cell_type": "code",
   "execution_count": null,
   "metadata": {},
   "outputs": [],
   "source": [
    "attsToSplit = [\"R_SIG_STR\", \"B_SIG_STR\", \"R_TOT_STR\", \"B_TOT_STR\", \"R_TD\", \"B_TD\", \"R_HEAD\", \"B_HEAD\", \"R_BODY\", \"B_BODY\", \n",
    "               \"R_LEG\", \"B_LEG\", \"R_DISTANCE\", \"B_DISTANCE\", \"R_CLINCH\", \"B_CLINCH\", \"R_GROUND\", \"B_GROUND\"]\n",
    "\n",
    "for attribute in attsToSplit:\n",
    "    makeTwoCols(dataFrame=df, origCol=attribute)"
   ]
  },
  {
   "cell_type": "code",
   "execution_count": null,
   "metadata": {},
   "outputs": [],
   "source": [
    "R_subset = ['R_FIGHTER','R_KD','R_SIG_PCT','R_TD_PCT', 'R_SUB_ATT', 'R_GROUND_ATT', 'WIN_TYPE', 'NUM_RD', 'TYPE',\n",
    "                'R_SIG_STR_SUC', 'R_SIG_STR_ATT', 'R_TOT_STR_SUC', 'R_TOT_STR_ATT', 'R_TD_SUC', 'R_TD_ATT',\n",
    "                'R_GROUND_SUC', 'TOTAL_TIME','WINNER', 'LOC', 'REF', 'DATE']\n",
    "R_df = df[R_subset]\n",
    "R_df = R_df.rename(columns=lambda x: x.replace('R_', ''))\n",
    "R_df = R_df.rename(columns={'SIG_STSUC':'SIG_STR_SUC'})\n",
    "R_df = R_df.rename(columns={'SIG_STATT':'SIG_STR_ATT'})\n",
    "R_df = R_df.rename(columns={'TOT_STSUC':'TOT_STR_SUC'})\n",
    "R_df = R_df.rename(columns={'TOT_STATT':'TOT_STR_ATT'})\n",
    "R_df['WINNER'] = np.where(R_df['WINNER'] == R_df['FIGHTER'], 1, 0)\n",
    "R_df.head()"
   ]
  },
  {
   "cell_type": "code",
   "execution_count": null,
   "metadata": {},
   "outputs": [],
   "source": [
    "B_subset = ['B_FIGHTER','B_KD','B_SIG_PCT','B_TD_PCT', 'B_SUB_ATT', 'B_GROUND_ATT', 'WIN_TYPE', 'NUM_RD', 'TYPE',\n",
    "                'B_SIG_STR_SUC', 'B_SIG_STR_ATT', 'B_TOT_STR_SUC', 'B_TOT_STR_ATT', 'B_TD_SUC', 'B_TD_ATT',\n",
    "                'B_GROUND_SUC', 'TOTAL_TIME','WINNER', 'LOC', 'REF', 'DATE']\n",
    "B_df = df[B_subset]\n",
    "B_df = B_df.rename(columns=lambda x: x.replace('B_', ''))\n",
    "B_df = B_df.rename(columns={'SUATT':'SUB_ATT'})\n",
    "B_df['WINNER'] = np.where(R_df['WINNER'] == R_df['FIGHTER'], 1, 0)\n",
    "B_df.head()"
   ]
  },
  {
   "cell_type": "code",
   "execution_count": null,
   "metadata": {},
   "outputs": [],
   "source": [
    "new_df = pd.concat([R_df, B_df])\n",
    "\n",
    "# sort the combined dataframe by date\n",
    "df = new_df\n",
    "# reset the index\n",
    "df = df.reset_index(drop=True)\n",
    "df"
   ]
  },
  {
   "cell_type": "code",
   "execution_count": null,
   "metadata": {},
   "outputs": [],
   "source": [
    "df.replace(\"---\", int(0), inplace=True)"
   ]
  },
  {
   "cell_type": "code",
   "execution_count": null,
   "metadata": {},
   "outputs": [],
   "source": [
    "df['TYPE'].unique()"
   ]
  },
  {
   "cell_type": "code",
   "execution_count": null,
   "metadata": {},
   "outputs": [],
   "source": [
    "df['TYPE'] = df['TYPE'].str.replace('Bout', '')\n",
    "df['TYPE'] = df['TYPE'].str.replace('Title', '')\n",
    "df['TYPE'] = df['TYPE'].str.replace('Tournament', '')\n",
    "df['TYPE'] = df['TYPE'].str.replace('Ultimate Fighter', '')\n",
    "df['TYPE'] = df['TYPE'].str.replace('UFC', '')\n",
    "df['TYPE'] = df['TYPE'].str.replace('Interim', '')\n",
    "df['TYPE'] = df['TYPE'].str.replace('Brazil', '')\n",
    "df['TYPE'] = df['TYPE'].str.replace('America', '')\n",
    "df['TYPE'] = df['TYPE'].str.replace('China', '')\n",
    "df['TYPE'] = df['TYPE'].str.replace('TUF', '')\n",
    "df['TYPE'] = df['TYPE'].str.replace('Australia', '')\n",
    "df['TYPE'] = df['TYPE'].str.replace('Nations', '')\n",
    "df['TYPE'] = df['TYPE'].str.replace('Canada', '')\n",
    "df['TYPE'] = df['TYPE'].str.replace('vs.', '')\n",
    "df['TYPE'] = df['TYPE'].str.replace('UK', '')\n",
    "df['TYPE'] = df['TYPE'].str.replace('Latin', '')\n",
    "df['TYPE'] = df['TYPE'].str.replace(\"Women's\", 'W')\n",
    "df['TYPE'].unique()"
   ]
  },
  {
   "cell_type": "code",
   "execution_count": null,
   "metadata": {},
   "outputs": [],
   "source": [
    "df['TYPE'] = df['TYPE'].str.strip() # remove whitespaces\n",
    "df['TYPE'] = df['TYPE'].str.replace(r'\\d+','',regex=True) # remove numbers\n",
    "df['TYPE'].unique()"
   ]
  },
  {
   "cell_type": "code",
   "execution_count": null,
   "metadata": {},
   "outputs": [],
   "source": [
    "for attribute in df.columns:\n",
    "    if str(df[attribute].iloc[0])[0].isnumeric() and attribute != \"DATE\":\n",
    "        df[attribute] = pd.to_numeric(df[attribute]).astype(\"int16\")"
   ]
  },
  {
   "cell_type": "code",
   "execution_count": null,
   "metadata": {},
   "outputs": [],
   "source": [
    "from sklearn.preprocessing import OneHotEncoder\n",
    "attsToEncode = ['REF', 'TYPE', 'DATE','WIN_TYPE', 'LOC', 'FIGHTER']"
   ]
  },
  {
   "cell_type": "code",
   "execution_count": null,
   "metadata": {},
   "outputs": [],
   "source": [
    "# Extract the columns to be encoded\n",
    "df_to_encode = df[attsToEncode]\n",
    "\n",
    "# Create a OneHotEncoder instance\n",
    "encoder = OneHotEncoder()\n",
    "\n",
    "# Fit and transform the selected columns\n",
    "encoded_data = encoder.fit_transform(df_to_encode)\n",
    "\n",
    "# Convert the encoded data to a DataFrame\n",
    "encoded_df = pd.DataFrame(encoded_data.toarray(), columns=encoder.get_feature_names_out(attsToEncode))\n",
    "\n",
    "# Concatenate the original DataFrame with the encoded DataFrame\n",
    "df_encoded = pd.concat([df, encoded_df], axis=1)\n",
    "\n",
    "# Drop the original categorical columns\n",
    "df_encoded.drop(columns=attsToEncode, inplace=True)"
   ]
  },
  {
   "cell_type": "markdown",
   "metadata": {},
   "source": [
    "# Decision Tree Classifier"
   ]
  },
  {
   "cell_type": "code",
   "execution_count": null,
   "metadata": {},
   "outputs": [],
   "source": [
    "from sklearn.tree import DecisionTreeClassifier\n",
    "from sklearn.model_selection import train_test_split\n",
    "from sklearn.metrics import accuracy_score\n",
    "\n",
    "X = df_encoded.drop(columns=['WINNER'])  \n",
    "y = df_encoded['WINNER']\n",
    "\n",
    "X_train, X_test, y_train, y_test = train_test_split(X, y, test_size=0.2, random_state=77)\n",
    "\n",
    "clf = DecisionTreeClassifier(random_state=41)\n",
    "\n",
    "clf.fit(X_train, y_train)\n",
    "\n",
    "accuracy = clf.score(X_test, y_test)\n",
    "print(f\"Accuracy of the Decision Tree classifier is: {accuracy:.4f}\")"
   ]
  },
  {
   "cell_type": "markdown",
   "metadata": {},
   "source": [
    "# Naive Bayes Classifier"
   ]
  },
  {
   "cell_type": "code",
   "execution_count": null,
   "metadata": {},
   "outputs": [],
   "source": [
    "from sklearn.naive_bayes import GaussianNB\n",
    "\n",
    "X = df_encoded.drop(columns=['WINNER'])\n",
    "y = df_encoded['WINNER']\n",
    "\n",
    "X_train, X_test, y_train, y_test = train_test_split(X, y, test_size=0.2, random_state=77)\n",
    "\n",
    "gnb = GaussianNB()\n",
    "\n",
    "gnb.fit(X_train, y_train)\n",
    "\n",
    "y_pred = gnb.predict(X_test)\n",
    "\n",
    "accuracy = accuracy_score(y_test, y_pred)\n",
    "print(f\"Accuracy of the Naive Bayes classifier is: {accuracy:.4f}\")\n"
   ]
  },
  {
   "cell_type": "markdown",
   "metadata": {},
   "source": [
    "# KNN Classifier"
   ]
  },
  {
   "cell_type": "code",
   "execution_count": null,
   "metadata": {},
   "outputs": [],
   "source": [
    "from sklearn.neighbors import KNeighborsClassifier\n",
    "\n",
    "\n",
    "X = df_encoded.drop(columns=['WINNER'])  \n",
    "y = df_encoded['WINNER']\n",
    "\n",
    "X_train, X_test, y_train, y_test = train_test_split(X, y, test_size=0.2, random_state=77)\n",
    "\n",
    "knn = KNeighborsClassifier(n_neighbors=5)\n",
    "\n",
    "knn.fit(X_train, y_train)\n",
    "\n",
    "accuracy = knn.score(X_test, y_test)\n",
    "print(f\"Accuracy of the K-Nearest Neighbors classifier is: {accuracy:.4f}\")"
   ]
  },
  {
   "cell_type": "markdown",
   "metadata": {},
   "source": [
    "# SVM Classifier"
   ]
  },
  {
   "cell_type": "code",
   "execution_count": null,
   "metadata": {},
   "outputs": [],
   "source": [
    "from sklearn.svm import SVC\n",
    "\n",
    "X = df_encoded.drop(columns=['WINNER'])  \n",
    "y = df_encoded['WINNER']\n",
    "\n",
    "X_train, X_test, y_train, y_test = train_test_split(X, y, test_size=0.2, random_state=77)\n",
    "\n",
    "svc = SVC(random_state=41)\n",
    "\n",
    "svc.fit(X_train, y_train)\n",
    "\n",
    "y_pred = svc.predict(X_test)\n",
    "\n",
    "accuracy = accuracy_score(y_test, y_pred)\n",
    "\n",
    "print(f\"Accuracy of the Support Vector Classifier is: {accuracy:.4f}\")"
   ]
  },
  {
   "cell_type": "markdown",
   "metadata": {},
   "source": [
    "# Neural Network Classifier"
   ]
  },
  {
   "cell_type": "code",
   "execution_count": null,
   "metadata": {},
   "outputs": [],
   "source": [
    "from sklearn.neural_network import MLPClassifier\n",
    "\n",
    "X = df_encoded.drop(columns=['WINNER'])  \n",
    "y = df_encoded['WINNER']\n",
    "\n",
    "X_train, X_test, y_train, y_test = train_test_split(X, y, test_size=0.2, random_state=77)\n",
    "\n",
    "clf = MLPClassifier(hidden_layer_sizes=(100, 100), activation='relu', solver='adam', random_state=42)\n",
    "\n",
    "clf.fit(X_train, y_train)\n",
    "\n",
    "y_pred = clf.predict(X_test)\n",
    "\n",
    "accuracy = accuracy_score(y_test, y_pred)\n",
    "print(f\"Accuracy of the Neural Network classifier is: {accuracy:.4f}\")\n"
   ]
  }
 ],
 "metadata": {
  "kernelspec": {
   "display_name": "Python 3",
   "language": "python",
   "name": "python3"
  },
  "language_info": {
   "codemirror_mode": {
    "name": "ipython",
    "version": 3
   },
   "file_extension": ".py",
   "mimetype": "text/x-python",
   "name": "python",
   "nbconvert_exporter": "python",
   "pygments_lexer": "ipython3",
   "version": "3.11.6"
  },
  "orig_nbformat": 4
 },
 "nbformat": 4,
 "nbformat_minor": 2
}
